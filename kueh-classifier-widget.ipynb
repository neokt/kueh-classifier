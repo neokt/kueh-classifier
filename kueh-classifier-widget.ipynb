{
 "cells": [
  {
   "cell_type": "markdown",
   "metadata": {},
   "source": [
    "# Kueh Classifier\n",
    "\n",
    "Kueh are sweet or savory snacks that can be traced back to Malaysia or Indonesia, and were adopted by the Peranakan Chinese community in Singapore. Coconut milk, pandan leaves, glutinous rice, and palm sugar are some of the common ingredients in Kueh. Kueh come in all sorts of delightful colors, shapes, sizes and textures. Let's try to classify them with the fastai library!"
   ]
  },
  {
   "cell_type": "code",
   "execution_count": 13,
   "metadata": {},
   "outputs": [],
   "source": [
    "from fastai2.vision.all import PILImage, Path, load_learner\n",
    "\n",
    "from ipywidgets import widgets, VBox"
   ]
  },
  {
   "cell_type": "code",
   "execution_count": 8,
   "metadata": {},
   "outputs": [],
   "source": [
    "def on_click_classify(change):\n",
    "    img = PILImage.create(btn_upload.data[-1])\n",
    "    out_pl.clear_output()\n",
    "    with out_pl: display(img.to_thumb(128,128))\n",
    "    pred, pred_idx, probs = learn_inf.predict(img)\n",
    "    lbl_pred.value = f'Prediction: {pred} Probability: {probs[pred_idx]:.04f}'\n",
    "\n",
    "# Read model pickle file\n",
    "path = Path()\n",
    "learn_inf = load_learner(path/'kueh_class_8.pkl')\n",
    "\n",
    "btn_upload = widgets.FileUpload()\n",
    "lbl_pred = widgets.Label()\n",
    "out_pl = widgets.Output()\n",
    "\n",
    "btn_run = widgets.Button(description='Classify')\n",
    "# Assigning on_click_classify to click\n",
    "btn_run.on_click(on_click_classify)"
   ]
  },
  {
   "cell_type": "code",
   "execution_count": 14,
   "metadata": {},
   "outputs": [
    {
     "data": {
      "application/vnd.jupyter.widget-view+json": {
       "model_id": "2948bb23e9a8484bbe689277ffc5a58e",
       "version_major": 2,
       "version_minor": 0
      },
      "text/plain": [
       "VBox(children=(HTML(value='<h1>Identify Your Kueh!</h1>'), FileUpload(value={'lapis-legit.png': {'metadata': {…"
      ]
     },
     "metadata": {},
     "output_type": "display_data"
    },
    {
     "data": {
      "text/html": [],
      "text/plain": [
       "<IPython.core.display.HTML object>"
      ]
     },
     "metadata": {},
     "output_type": "display_data"
    }
   ],
   "source": [
    "VBox([widgets.HTML(value=\"<h1>Identify Your Kueh!</h1>\"), \n",
    "      btn_upload, btn_run, out_pl, lbl_pred])"
   ]
  }
 ],
 "metadata": {
  "kernelspec": {
   "display_name": "Python 3",
   "language": "python",
   "name": "python3"
  },
  "language_info": {
   "codemirror_mode": {
    "name": "ipython",
    "version": 3
   },
   "file_extension": ".py",
   "mimetype": "text/x-python",
   "name": "python",
   "nbconvert_exporter": "python",
   "pygments_lexer": "ipython3",
   "version": "3.7.6"
  }
 },
 "nbformat": 4,
 "nbformat_minor": 4
}
