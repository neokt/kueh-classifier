{
 "cells": [
  {
   "cell_type": "code",
   "execution_count": 9,
   "metadata": {},
   "outputs": [
    {
     "data": {
      "text/html": [
       "<style>\n",
       "body {font-family: \"Times New Roman\", Georgia, Serif;}\n",
       "h1, h2, h3, h4, h5, h6 {\n",
       "  font-family: \"Playfair Display\";\n",
       "  letter-spacing: 5px;\n",
       "}\n",
       "p {\n",
       "  font-family: \"Playfair Display\";\n",
       "}\n",
       "button {\n",
       "display: inline-block;\n",
       "border-radius: 10px;\n",
       "text-align: center;\n",
       "font-size: 28px;\n",
       "padding: 20px;\n",
       "width: 200px;\n",
       "-webkit-transition: all 0.25s;\n",
       "-moz-transition: all 0.25s;\n",
       "-o-transition: all 0.25s;\n",
       "transition: all 0.25s;\n",
       "cursor: pointer;\n",
       "margin: 5px;\n",
       "}\n",
       "</style>\n"
      ],
      "text/plain": [
       "<IPython.core.display.HTML object>"
      ]
     },
     "metadata": {},
     "output_type": "display_data"
    }
   ],
   "source": [
    "%%html\n",
    "<style>\n",
    "body {font-family: \"Times New Roman\", Georgia, Serif;}\n",
    "h1, h2, h3, h4, h5, h6 {\n",
    "  font-family: \"Playfair Display\";\n",
    "  letter-spacing: 5px;\n",
    "}\n",
    "p {\n",
    "  font-family: \"Playfair Display\";\n",
    "}\n",
    "button {\n",
    "display: inline-block;\n",
    "border-radius: 10px;\n",
    "text-align: center;\n",
    "font-size: 28px;\n",
    "padding: 20px;\n",
    "width: 200px;\n",
    "-webkit-transition: all 0.25s;\n",
    "-moz-transition: all 0.25s;\n",
    "-o-transition: all 0.25s;\n",
    "transition: all 0.25s;\n",
    "cursor: pointer;\n",
    "margin: 5px;\n",
    "}\n",
    "</style>"
   ]
  },
  {
   "cell_type": "markdown",
   "metadata": {},
   "source": [
    "<div align=\"center\" width=80%>\n",
    "<h1>Kueh Classifier</h1>\n",
    "Kueh are sweet or savory snacks that can be traced back to Malaysia or Indonesia, and were adopted by the Peranakan Chinese community in Singapore. Coconut milk, pandan leaves, glutinous rice, and palm sugar are some of the common ingredients in Kueh. Kueh come in all sorts of delightful colors, shapes, sizes and textures. Let's try to classify them by training a convolutional neural network (ResNet-18 with transfer learning), using the new fastai2 library!<br><br>\n",
    "</div>  \n",
    "\n",
    "<div align=\"center\">Kueh types that our classifier can identify:<br><br></div>\n",
    "\n",
    "<div align=\"center\"><table style=\"width:50%\">\n",
    "<tr>\n",
    "    <td><a href=\"https://www.google.com/search?tbm=isch&as_q=lapis+sagu\" target=\"_blank\">Kueh Lapis (Sagu)</a></td>\n",
    "<td><a href=\"https://www.google.com/search?tbm=isch&as_q=lapis+legit\" target=\"_blank\">Kueh Lapis (Legit)</a></td>\n",
    "<td><a href=\"https://www.google.com/search?tbm=isch&as_q=ondeh+ondeh\" target=\"_blank\">Ondeh Ondeh</a></td>\n",
    "    <td><a href=\"https://www.google.com/search?tbm=isch&as_q=angku+kueh\" target=\"_blank\">Angku Kueh</a></td>\n",
    "</tr>\n",
    "<tr>\n",
    "    <td><a href=\"https://www.google.com/search?tbm=isch&as_q=kueh+dadar\" target=\"_blank\">Kueh Dadar</a></td>\n",
    "    <td><a href=\"https://www.google.com/search?tbm=isch&as_q=bingka+ubi\" target=\"_blank\">Bingka Ubi</a></td>\n",
    "    <td><a href=\"https://www.google.com/search?tbm=isch&as_q=kueh+salat\" target=\"_blank\">Kueh Salat</a></td>\n",
    "<td><a href=\"https://www.google.com/search?tbm=isch&as_q=pandan+chiffon+cake\" target=\"_blank\">Pandan Chiffon Cake</a></td>\n",
    "\n",
    "</tr>\n",
    "</table>\n",
    "</div>\n",
    "\n",
    "<div align=\"center\">\n",
    "<img src=\"https://lh3.googleusercontent.com/proxy/Epm6bJUYRMgYiUQs1V41z4oN_Lmyr5pBftRijfEjklOPz9JddjNQnUVUSzbXl2VMErjFlCYxiiceVMUE9B1UfQiMtKLlKAw1NaX4CNCM0a3feZ9IFok\" width=200><br>\n",
    "<i><font size=\"2\">Image from <a href=\"http://www.siakchinyoke.com/chye-hoons-category/food\">siakchinyoke.com</a></font></i>\n",
    "</div>\n"
   ]
  },
  {
   "cell_type": "code",
   "execution_count": 2,
   "metadata": {},
   "outputs": [],
   "source": [
    "from fastai2.vision.all import PILImage, Path, load_learner\n",
    "\n",
    "from ipywidgets import widgets, VBox, Layout"
   ]
  },
  {
   "cell_type": "code",
   "execution_count": 10,
   "metadata": {},
   "outputs": [],
   "source": [
    "def on_click_classify(change):\n",
    "    img = PILImage.create(btn_upload.data[-1])\n",
    "    out_pl.clear_output()\n",
    "    with out_pl: display(img.to_thumb(128,128))\n",
    "    pred, pred_idx, probs = learn_inf.predict(img)\n",
    "    lbl_pred.value = f'Prediction: {pred}; Probability: {probs[pred_idx]:.04f}'\n",
    "\n",
    "# Specify path and load model pickle object\n",
    "path = Path()\n",
    "learn_inf = load_learner(path/'kueh_class_8.pkl')\n",
    "\n",
    "# Creating upload, label and output widgets\n",
    "btn_upload = widgets.FileUpload()\n",
    "lbl_pred = widgets.Label()\n",
    "out_pl = widgets.Output()\n",
    "\n",
    "# Create button for classifying\n",
    "btn_run = widgets.Button(description='Classify', icon='check')\n",
    "\n",
    "# Assigning on_click_classify to button on_click\n",
    "btn_run.on_click(on_click_classify)"
   ]
  },
  {
   "cell_type": "code",
   "execution_count": 11,
   "metadata": {},
   "outputs": [
    {
     "data": {
      "application/vnd.jupyter.widget-view+json": {
       "model_id": "bae4b8c0bf5542d6a7f3d23c2b62edb5",
       "version_major": 2,
       "version_minor": 0
      },
      "text/plain": [
       "VBox(children=(HTML(value='<h4>Upload an Image of Kueh</h4>'), FileUpload(value={}, description='Upload'), But…"
      ]
     },
     "metadata": {},
     "output_type": "display_data"
    }
   ],
   "source": [
    "# Set box styles\n",
    "box_layout = Layout(display='inline-flex',\n",
    "                    flex_flow='column',\n",
    "                    align_items='center',\n",
    "                    width='100%')\n",
    "\n",
    "# Create box for widgets\n",
    "VBox(children=[widgets.HTML(value=\"<h4>Upload an Image of Kueh</h4>\"),\n",
    "    btn_upload, btn_run, out_pl, lbl_pred], \n",
    "    layout=box_layout)"
   ]
  }
 ],
 "metadata": {
  "kernelspec": {
   "display_name": "Python 3",
   "language": "python",
   "name": "python3"
  },
  "language_info": {
   "codemirror_mode": {
    "name": "ipython",
    "version": 3
   },
   "file_extension": ".py",
   "mimetype": "text/x-python",
   "name": "python",
   "nbconvert_exporter": "python",
   "pygments_lexer": "ipython3",
   "version": "3.7.6"
  }
 },
 "nbformat": 4,
 "nbformat_minor": 4
}
